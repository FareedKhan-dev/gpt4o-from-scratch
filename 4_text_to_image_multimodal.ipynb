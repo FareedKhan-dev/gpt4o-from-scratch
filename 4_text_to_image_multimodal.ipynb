{
 "cells": [
  {
   "cell_type": "markdown",
   "metadata": {},
   "source": [
    "## End-to-End Text-to-Image Transformer Implementation (Feature Generation)\n",
    "\n",
    "### Introduction: Generating Images from Text via Feature Vectors\n",
    "\n",
    "**Recap: The Multi-Modal Transformer**\n",
    "\n",
    "In `multimodal.ipynb`, we adapted our character-level Transformer to handle both images (via ResNet features) and text prompts for tasks like visual description. We saved the state, including text processing components, tokenizer, and the vision feature projection layer, in `saved_models/multimodal_model.pt`.\n",
    "\n",
    "**The Text-to-Image Challenge (Simplified)**\n",
    "\n",
    "Generating realistic images directly from text is a complex task often involving specialized architectures like Generative Adversarial Networks (GANs) or Diffusion Models. To stay within our inline, Transformer-focused framework, we will tackle a simplified version:\n",
    "\n",
    "*   **Goal:** Given a text prompt (e.g., \"a blue square\"), generate an *image feature vector* that represents the described image.\n",
    "*   **Why Feature Vectors?** Generating raw pixels autoregressively with a basic Transformer is difficult and computationally expensive. Generating a fixed-size feature vector (like those from ResNet) is a more manageable intermediate step.\n",
    "*   **Image Reconstruction:** After generating the feature vector, we will use a simple nearest-neighbor approach on our known training images to visualize the result. The model predicts a feature vector, and we find which of our training images (red square, blue square, green circle) has the most similar feature vector, displaying that image.\n",
    "\n",
    "**Our Approach: Transformer for Feature Prediction**\n",
    "\n",
    "1.  **Load Components:** We load the text Transformer components (embeddings, positional encoding, attention/FFN blocks, final layer norm) and the tokenizer from `multimodal_model.pt`. We also load the frozen ResNet-18 feature extractor to get *target* features during training.\n",
    "2.  **Adapt Architecture:** The input is now only text. We will replace the final output layer (which previously predicted text tokens) with a new linear layer that maps the Transformer's final hidden state to the dimensionality of the ResNet image features (e.g., 512).\n",
    "3.  **Training Data:** We need pairs of (Text Prompt, Target Image). We'll use descriptive prompts for the simple images created previously.\n",
    "4.  **Training Process:** The model reads the prompt, processes it through the Transformer blocks, and uses the new output layer to predict an image feature vector. The loss (MSE) compares this predicted vector to the *actual* feature vector of the target image.\n",
    "5.  **Inference (Generation):** Input a text prompt, get the predicted feature vector from the model, find the closest matching known image feature, and display the corresponding image.\n",
    "\n",
    "**Inline Implementation Style**\n",
    "\n",
    "We continue the extremely detailed, step-by-step, inline implementation with theory, avoiding functions and classes."
   ]
  },
  {
   "cell_type": "markdown",
   "metadata": {},
   "source": [
    "### Step 0: Setup - Libraries, Loading, Data, Feature Extraction\n",
    "\n",
    "**Goal:** Prepare the environment, load relevant components from the previous multi-modal model, define text-image pair data, and extract target image features."
   ]
  },
  {
   "cell_type": "markdown",
   "metadata": {},
   "source": [
    "#### Step 0.1: Import Libraries\n",
    "\n",
    "**Theory:** Import necessary libraries. We need `torch`, `torchvision`, `PIL`, `math`, `os`, `numpy`. We'll also need `scipy.spatial.distance` or `torch.nn.functional.cosine_similarity` later for finding the closest feature vector during generation."
   ]
  },
  {
   "cell_type": "code",
   "execution_count": 1,
   "metadata": {},
   "outputs": [
    {
     "name": "stdout",
     "output_type": "stream",
     "text": [
      "PyTorch version: 2.6.0+cu118\n",
      "Torchvision version: 0.21.0+cu118\n",
      "Libraries imported.\n",
      "Using device: cuda\n"
     ]
    }
   ],
   "source": [
    "# Import necessary libraries\n",
    "import torch\n",
    "import torch.nn as nn\n",
    "from torch.nn import functional as F\n",
    "import torch.optim as optim\n",
    "import torchvision\n",
    "import torchvision.transforms as transforms\n",
    "from PIL import Image, ImageDraw # Added ImageDraw back\n",
    "import math\n",
    "import os\n",
    "import numpy as np\n",
    "# For finding closest vector later\n",
    "from scipy.spatial import distance as scipy_distance \n",
    "\n",
    "# For reproducibility\n",
    "torch.manual_seed(123) # Yet another seed\n",
    "np.random.seed(123)\n",
    "\n",
    "print(f\"PyTorch version: {torch.__version__}\")\n",
    "print(f\"Torchvision version: {torchvision.__version__}\")\n",
    "print(\"Libraries imported.\")\n",
    "\n",
    "# --- Device Configuration ---\n",
    "device = 'cuda' if torch.cuda.is_available() else 'cpu'\n",
    "print(f\"Using device: {device}\")"
   ]
  },
  {
   "cell_type": "markdown",
   "metadata": {},
   "source": [
    "#### Step 0.2: Load Relevant State from Multi-Modal Model\n",
    "\n",
    "**Theory:** Load the state dictionary from `multimodal_model.pt`. We need the configuration, the tokenizer, the text Transformer components (embeddings, blocks, etc.), and the ResNet feature extractor (which we'll keep frozen)."
   ]
  },
  {
   "cell_type": "code",
   "execution_count": 2,
   "metadata": {},
   "outputs": [
    {
     "name": "stdout",
     "output_type": "stream",
     "text": [
      "\n",
      "Step 0.2: Loading state from multi-modal model...\n",
      "Loaded state dictionary from 'saved_models/multimodal_model.pt'.\n",
      "Extracted model configuration and tokenizer:\n",
      "  vocab_size: 42\n",
      "  d_model: 64\n",
      "  n_layers: 3\n",
      "  n_heads: 4\n",
      "  d_ff: 256\n",
      "  block_size: 64\n",
      "  vision_feature_dim: 512\n",
      "  PAD token ID: 37\n",
      "Loaded positional encoding with shape: torch.Size([1, 64, 64])\n",
      "Stored state dicts for text transformer components.\n",
      "Loading pre-trained vision model (ResNet-18) for target feature extraction...\n",
      "Loaded and froze ResNet-18 feature extractor on device: cuda\n",
      "Defined image transformations.\n"
     ]
    }
   ],
   "source": [
    "# --- Load Saved Multi-Modal Model State ---\n",
    "print(\"\\nStep 0.2: Loading state from multi-modal model...\")\n",
    "model_load_path = 'saved_models/multimodal_model.pt'\n",
    "if not os.path.exists(model_load_path):\n",
    "    raise FileNotFoundError(f\"Error: Model file not found at {model_load_path}. Please ensure 'multimodal.ipynb' was run and saved the model.\")\n",
    "\n",
    "loaded_state_dict = torch.load(model_load_path, map_location=device)\n",
    "print(f\"Loaded state dictionary from '{model_load_path}'.\")\n",
    "\n",
    "# --- Extract Config and Tokenizer ---\n",
    "config = loaded_state_dict['config']\n",
    "vocab_size = config['vocab_size'] # Includes special tokens\n",
    "d_model = config['d_model']\n",
    "n_heads = config['n_heads']\n",
    "n_layers = config['n_layers']\n",
    "d_ff = config['d_ff']\n",
    "# Use block_size from loaded config, might adjust later based only on text prompt length needs\n",
    "block_size = config['block_size']\n",
    "vision_feature_dim = config['vision_feature_dim'] # Dimension of ResNet features (e.g., 512)\n",
    "d_k = d_model // n_heads\n",
    "\n",
    "char_to_int = loaded_state_dict['tokenizer']['char_to_int']\n",
    "int_to_char = loaded_state_dict['tokenizer']['int_to_char']\n",
    "pad_token_id = char_to_int.get('<PAD>', -1) # Get PAD token ID\n",
    "if pad_token_id == -1:\n",
    "    print(\"Warning: PAD token not found in loaded tokenizer!\")\n",
    "\n",
    "print(\"Extracted model configuration and tokenizer:\")\n",
    "print(f\"  vocab_size: {vocab_size}\")\n",
    "print(f\"  d_model: {d_model}\")\n",
    "print(f\"  n_layers: {n_layers}\")\n",
    "print(f\"  n_heads: {n_heads}\")\n",
    "print(f\"  d_ff: {d_ff}\")\n",
    "print(f\"  block_size: {block_size}\")\n",
    "print(f\"  vision_feature_dim: {vision_feature_dim}\")\n",
    "print(f\"  PAD token ID: {pad_token_id}\")\n",
    "\n",
    "# --- Load Positional Encoding --- \n",
    "positional_encoding = loaded_state_dict['positional_encoding'].to(device)\n",
    "# Verify block size consistency\n",
    "if positional_encoding.shape[1] != block_size:\n",
    "    print(f\"Warning: Loaded PE size ({positional_encoding.shape[1]}) doesn't match loaded block_size ({block_size}). Using loaded PE size.\")\n",
    "    # block_size = positional_encoding.shape[1] # Option 1: Use PE's size\n",
    "    # Option 2: Recompute PE (like before) if necessary, but let's try slicing/padding first if needed\n",
    "print(f\"Loaded positional encoding with shape: {positional_encoding.shape}\")\n",
    "\n",
    "# --- Load Text Transformer Components (Weights only, structure created later) ---\n",
    "loaded_embedding_dict = loaded_state_dict['token_embedding_table']\n",
    "loaded_ln1_dicts = loaded_state_dict['layer_norms_1']\n",
    "loaded_qkv_dicts = loaded_state_dict['mha_qkv_linears']\n",
    "loaded_mha_out_dicts = loaded_state_dict['mha_output_linears']\n",
    "loaded_ln2_dicts = loaded_state_dict['layer_norms_2']\n",
    "loaded_ffn1_dicts = loaded_state_dict['ffn_linear_1']\n",
    "loaded_ffn2_dicts = loaded_state_dict['ffn_linear_2']\n",
    "loaded_final_ln_dict = loaded_state_dict['final_layer_norm']\n",
    "print(\"Stored state dicts for text transformer components.\")\n",
    "\n",
    "# --- Load Vision Feature Extractor (ResNet) --- \n",
    "# Theory: Re-load the same ResNet-18 model used before. Keep it frozen.\n",
    "print(\"Loading pre-trained vision model (ResNet-18) for target feature extraction...\")\n",
    "vision_model = torchvision.models.resnet18(weights=torchvision.models.ResNet18_Weights.DEFAULT)\n",
    "vision_model.fc = nn.Identity() # Remove classifier\n",
    "vision_model = vision_model.to(device)\n",
    "vision_model.eval() # Keep in evaluation mode\n",
    "# Freeze ResNet parameters - VERY IMPORTANT\n",
    "for param in vision_model.parameters():\n",
    "    param.requires_grad = False\n",
    "print(f\"Loaded and froze ResNet-18 feature extractor on device: {device}\")\n",
    "\n",
    "# --- Define Image Transformations (same as before) ---\n",
    "image_transforms = transforms.Compose([\n",
    "    transforms.Resize(256),\n",
    "    transforms.CenterCrop(224),\n",
    "    transforms.ToTensor(),\n",
    "    transforms.Normalize(mean=[0.485, 0.456, 0.406], std=[0.229, 0.224, 0.225])\n",
    "])\n",
    "print(\"Defined image transformations.\")"
   ]
  },
  {
   "cell_type": "markdown",
   "metadata": {},
   "source": [
    "#### Step 0.3: Define Sample Text-to-Image Data\n",
    "\n",
    "**Theory:** Create pairs of (descriptive text prompt, path_to_target_image). Use the same simple images generated in the previous notebook."
   ]
  },
  {
   "cell_type": "code",
   "execution_count": 3,
   "metadata": {},
   "outputs": [
    {
     "name": "stdout",
     "output_type": "stream",
     "text": [
      "\n",
      "Step 0.3: Defining sample text-to-image data...\n",
      "Defined 7 sample text-to-image data points.\n"
     ]
    }
   ],
   "source": [
    "print(\"\\nStep 0.3: Defining sample text-to-image data...\")\n",
    "\n",
    "# --- Image Paths (Assuming they exist from multimodal.ipynb) ---\n",
    "sample_data_dir = \"sample_multimodal_data\"\n",
    "image_paths = {\n",
    "    \"red_square\": os.path.join(sample_data_dir, \"red_square.png\"),\n",
    "    \"blue_square\": os.path.join(sample_data_dir, \"blue_square.png\"),\n",
    "    \"green_circle\": os.path.join(sample_data_dir, \"green_circle.png\")\n",
    "}\n",
    "# Verify paths exist\n",
    "for key, path in image_paths.items():\n",
    "    if not os.path.exists(path):\n",
    "        print(f\"Warning: Image file not found at {path}. Attempting to recreate.\")\n",
    "        if key == \"red_square\":\n",
    "            img_ = Image.new('RGB', (64, 64), color = 'red')\n",
    "            img_.save(path)\n",
    "        elif key == \"blue_square\":\n",
    "            img_ = Image.new('RGB', (64, 64), color = 'blue')\n",
    "            img_.save(path)\n",
    "        elif key == \"green_circle\":\n",
    "            img_ = Image.new('RGB', (64, 64), color = 'white')\n",
    "            draw = ImageDraw.Draw(img_)\n",
    "            draw.ellipse((4, 4, 60, 60), fill='green', outline='green')\n",
    "            img_.save(path)\n",
    "        else:\n",
    "             print(f\"Error: Cannot recreate unknown image key '{key}'.\")\n",
    "\n",
    "# --- Define Text Prompt -> Image Path Pairs ---\n",
    "text_to_image_data = [\n",
    "    {\"prompt\": \"a red square\", \"image_path\": image_paths[\"red_square\"]},\n",
    "    {\"prompt\": \"the square is red\", \"image_path\": image_paths[\"red_square\"]},\n",
    "    {\"prompt\": \"show a blue square\", \"image_path\": image_paths[\"blue_square\"]},\n",
    "    {\"prompt\": \"blue shape, square\", \"image_path\": image_paths[\"blue_square\"]},\n",
    "    {\"prompt\": \"a green circle\", \"image_path\": image_paths[\"green_circle\"]},\n",
    "    {\"prompt\": \"the circle, it is green\", \"image_path\": image_paths[\"green_circle\"]},\n",
    "    # Add maybe one more variation\n",
    "    {\"prompt\": \"make a square that is red\", \"image_path\": image_paths[\"red_square\"]}\n",
    "]\n",
    "\n",
    "num_samples = len(text_to_image_data)\n",
    "print(f\"Defined {num_samples} sample text-to-image data points.\")\n",
    "# print(f\"Sample 0: {text_to_image_data[0]}\")"
   ]
  },
  {
   "cell_type": "markdown",
   "metadata": {},
   "source": [
    "#### Step 0.4: Extract Target Image Features\n",
    "\n",
    "**Theory:** Pre-compute the target feature vectors for all unique images in our dataset using the frozen ResNet. Store these, mapping the image path to its feature tensor. We also store them in a separate list alongside their paths for the nearest-neighbor lookup during generation."
   ]
  },
  {
   "cell_type": "code",
   "execution_count": 4,
   "metadata": {},
   "outputs": [
    {
     "name": "stdout",
     "output_type": "stream",
     "text": [
      "\n",
      "Step 0.4: Extracting target image features...\n",
      "Found 3 unique target images to process.\n",
      "  Extracted features for 'blue_square.png', shape: torch.Size([512])\n",
      "  Extracted features for 'green_circle.png', shape: torch.Size([512])\n",
      "  Extracted features for 'red_square.png', shape: torch.Size([512])\n",
      "Finished extracting and storing target image features.\n",
      "Stored 3 known (path, feature) pairs for generation lookup.\n"
     ]
    }
   ],
   "source": [
    "print(\"\\nStep 0.4: Extracting target image features...\")\n",
    "target_image_features = {} # Dict: {image_path: feature_tensor}\n",
    "known_features_list = [] # List: [(path, feature_tensor)] for generation lookup\n",
    "\n",
    "# --- Loop Through Unique Image Paths in this dataset ---\n",
    "unique_image_paths_in_data = sorted(list(set(d[\"image_path\"] for d in text_to_image_data)))\n",
    "print(f\"Found {len(unique_image_paths_in_data)} unique target images to process.\")\n",
    "\n",
    "for img_path in unique_image_paths_in_data:\n",
    "    # Avoid re-extracting if already done (e.g., if loading from multimodal)\n",
    "    # if img_path in extracted_image_features: # Check previous notebook's dict\n",
    "    #    feature_vector_squeezed = extracted_image_features[img_path]\n",
    "    #    print(f\"  Using pre-extracted features for '{os.path.basename(img_path)}'\")\n",
    "    # else: \n",
    "    # --- Load Image --- \n",
    "    try:\n",
    "        img = Image.open(img_path).convert('RGB')\n",
    "    except FileNotFoundError:\n",
    "        print(f\"Error: Image file not found at {img_path}. Skipping.\")\n",
    "        continue\n",
    "    \n",
    "    # --- Apply Transformations ---\n",
    "    img_tensor = image_transforms(img).unsqueeze(0).to(device) # (1, 3, 224, 224)\n",
    "\n",
    "    # --- Extract Features (using frozen vision_model) ---\n",
    "    with torch.no_grad():\n",
    "        feature_vector = vision_model(img_tensor) # (1, vision_feature_dim)\n",
    "    feature_vector_squeezed = feature_vector.squeeze(0) # (vision_feature_dim,)\n",
    "    print(f\"  Extracted features for '{os.path.basename(img_path)}', shape: {feature_vector_squeezed.shape}\")\n",
    "\n",
    "    # --- Store Features ---\n",
    "    target_image_features[img_path] = feature_vector_squeezed\n",
    "    known_features_list.append((img_path, feature_vector_squeezed))\n",
    "\n",
    "if not target_image_features:\n",
    "     raise ValueError(\"No target image features were extracted. Cannot proceed.\")\n",
    "\n",
    "print(\"Finished extracting and storing target image features.\")\n",
    "print(f\"Stored {len(known_features_list)} known (path, feature) pairs for generation lookup.\")"
   ]
  },
  {
   "cell_type": "markdown",
   "metadata": {},
   "source": [
    "#### Step 0.5: Define Training Hyperparameters\n",
    "\n",
    "**Theory:** Adjust hyperparameters for this specific task. We might need a different learning rate or number of epochs. The `block_size` here mainly relates to the maximum prompt length we expect."
   ]
  },
  {
   "cell_type": "code",
   "execution_count": 5,
   "metadata": {},
   "outputs": [
    {
     "name": "stdout",
     "output_type": "stream",
     "text": [
      "\n",
      "Step 0.5: Defining training hyperparameters for text-to-image...\n",
      "Using block_size: 64\n",
      "  Training Params: LR=0.0001, BatchSize=4, Epochs=5000\n"
     ]
    }
   ],
   "source": [
    "print(\"\\nStep 0.5: Defining training hyperparameters for text-to-image...\")\n",
    "\n",
    "# Use block_size from loaded config, ensure it's adequate for prompts\n",
    "max_prompt_len = max(len(d[\"prompt\"]) for d in text_to_image_data)\n",
    "if block_size < max_prompt_len + 1: # +1 for potential special tokens like <EOS> if used in prompt\n",
    "    print(f\"Warning: Loaded block_size ({block_size}) might be small for max prompt length ({max_prompt_len}). Consider increasing block_size if issues arise.\")\n",
    "    # Adjust block_size if needed, and recompute PE / causal mask\n",
    "    # block_size = max_prompt_len + 5 # Example adjustment\n",
    "    # print(f\"Adjusted block_size to {block_size}\")\n",
    "    # Need to recompute PE and causal_mask if block_size changes\n",
    "\n",
    "# Recreate causal mask just in case block_size was adjusted, or use loaded size\n",
    "causal_mask = torch.tril(torch.ones(block_size, block_size, device=device)).view(1, 1, block_size, block_size)\n",
    "print(f\"Using block_size: {block_size}\")\n",
    "\n",
    "learning_rate = 1e-4 # Potentially lower LR for fine-tuning\n",
    "batch_size = 4      # Keep small due to limited data\n",
    "epochs = 5000       # Number of training iterations\n",
    "eval_interval = 500\n",
    "\n",
    "print(f\"  Training Params: LR={learning_rate}, BatchSize={batch_size}, Epochs={epochs}\")"
   ]
  },
  {
   "cell_type": "markdown",
   "metadata": {},
   "source": [
    "### Step 1: Model Adaptation and Initialization\n",
    "\n",
    "**Goal:** Rebuild the text Transformer components using the loaded weights and initialize the new output projection layer."
   ]
  },
  {
   "cell_type": "markdown",
   "metadata": {},
   "source": [
    "#### Step 1.1: Initialize Text Transformer Components\n",
    "\n",
    "**Theory:** Create instances of the embedding layer, LayerNorms, and Linear layers for the Transformer blocks, then load the pre-trained weights from the dictionaries stored in Step 0.2."
   ]
  },
  {
   "cell_type": "code",
   "execution_count": 6,
   "metadata": {},
   "outputs": [
    {
     "name": "stdout",
     "output_type": "stream",
     "text": [
      "\n",
      "Step 1.1: Initializing Text Transformer components and loading weights...\n",
      "  Loaded Token Embedding Table, shape: torch.Size([42, 64])\n",
      "  Loaded components for 3 Transformer Layers.\n",
      "  Loaded Final LayerNorm.\n",
      "Finished initializing and loading weights for text transformer components.\n"
     ]
    }
   ],
   "source": [
    "print(\"\\nStep 1.1: Initializing Text Transformer components and loading weights...\")\n",
    "\n",
    "# --- Token Embedding Table ---\n",
    "token_embedding_table = nn.Embedding(vocab_size, d_model).to(device)\n",
    "token_embedding_table.load_state_dict(loaded_embedding_dict)\n",
    "print(f\"  Loaded Token Embedding Table, shape: {token_embedding_table.weight.shape}\")\n",
    "\n",
    "# --- Transformer Blocks Components ---\n",
    "layer_norms_1 = []\n",
    "mha_qkv_linears = []\n",
    "mha_output_linears = []\n",
    "layer_norms_2 = []\n",
    "ffn_linear_1 = []\n",
    "ffn_linear_2 = []\n",
    "\n",
    "for i in range(n_layers):\n",
    "    # LayerNorm 1\n",
    "    ln1 = nn.LayerNorm(d_model).to(device)\n",
    "    ln1.load_state_dict(loaded_ln1_dicts[i])\n",
    "    layer_norms_1.append(ln1)\n",
    "\n",
    "    # MHA QKV Linear (Check bias presence)\n",
    "    qkv_dict = loaded_qkv_dicts[i]\n",
    "    has_bias = 'bias' in qkv_dict\n",
    "    qkv_linear = nn.Linear(d_model, 3 * d_model, bias=has_bias).to(device)\n",
    "    qkv_linear.load_state_dict(qkv_dict)\n",
    "    mha_qkv_linears.append(qkv_linear)\n",
    "\n",
    "    # MHA Output Linear (Check bias presence)\n",
    "    mha_out_dict = loaded_mha_out_dicts[i]\n",
    "    has_bias = 'bias' in mha_out_dict\n",
    "    output_linear_mha = nn.Linear(d_model, d_model, bias=has_bias).to(device)\n",
    "    output_linear_mha.load_state_dict(mha_out_dict)\n",
    "    mha_output_linears.append(output_linear_mha)\n",
    "\n",
    "    # LayerNorm 2\n",
    "    ln2 = nn.LayerNorm(d_model).to(device)\n",
    "    ln2.load_state_dict(loaded_ln2_dicts[i])\n",
    "    layer_norms_2.append(ln2)\n",
    "\n",
    "    # FFN Linear 1 (Check bias presence)\n",
    "    ffn1_dict = loaded_ffn1_dicts[i]\n",
    "    has_bias = 'bias' in ffn1_dict\n",
    "    lin1 = nn.Linear(d_model, d_ff, bias=has_bias).to(device)\n",
    "    lin1.load_state_dict(ffn1_dict)\n",
    "    ffn_linear_1.append(lin1)\n",
    "\n",
    "    # FFN Linear 2 (Check bias presence)\n",
    "    ffn2_dict = loaded_ffn2_dicts[i]\n",
    "    has_bias = 'bias' in ffn2_dict\n",
    "    lin2 = nn.Linear(d_ff, d_model, bias=has_bias).to(device)\n",
    "    lin2.load_state_dict(ffn2_dict)\n",
    "    ffn_linear_2.append(lin2)\n",
    "\n",
    "print(f\"  Loaded components for {n_layers} Transformer Layers.\")\n",
    "\n",
    "# --- Final LayerNorm ---\n",
    "final_layer_norm = nn.LayerNorm(d_model).to(device)\n",
    "final_layer_norm.load_state_dict(loaded_final_ln_dict)\n",
    "print(\"  Loaded Final LayerNorm.\")\n",
    "\n",
    "print(\"Finished initializing and loading weights for text transformer components.\")"
   ]
  },
  {
   "cell_type": "markdown",
   "metadata": {},
   "source": [
    "#### Step 1.2: Initialize New Output Projection Layer\n",
    "\n",
    "**Theory:** Create the new linear layer that will map the final hidden state of the Transformer (`d_model`) to the dimension of the image feature vector (`vision_feature_dim`). This layer's weights are initialized randomly and will be trained."
   ]
  },
  {
   "cell_type": "code",
   "execution_count": 7,
   "metadata": {},
   "outputs": [
    {
     "name": "stdout",
     "output_type": "stream",
     "text": [
      "\n",
      "Step 1.2: Initializing new output projection layer (Text -> Image Feature)...\n",
      "  Initialized Text-to-Image-Feature Output Layer: 64 -> 512. Device: cuda\n"
     ]
    }
   ],
   "source": [
    "print(\"\\nStep 1.2: Initializing new output projection layer (Text -> Image Feature)...\")\n",
    "\n",
    "text_to_image_feature_layer = nn.Linear(d_model, vision_feature_dim).to(device)\n",
    "\n",
    "print(f\"  Initialized Text-to-Image-Feature Output Layer: {d_model} -> {vision_feature_dim}. Device: {device}\")"
   ]
  },
  {
   "cell_type": "markdown",
   "metadata": {},
   "source": [
    "### Step 2: Data Preparation for Text-to-Image Training\n",
    "\n",
    "**Goal:** Tokenize and pad the text prompts, and pair them with their corresponding target image feature vectors."
   ]
  },
  {
   "cell_type": "markdown",
   "metadata": {},
   "source": [
    "#### Step 2.1: Tokenize and Pad Prompts\n",
    "\n",
    "**Theory:** Convert text prompts into sequences of token IDs using `char_to_int`. Pad each sequence to `block_size` using `pad_token_id`. Also create corresponding attention masks (1 for real tokens, 0 for padding)."
   ]
  },
  {
   "cell_type": "code",
   "execution_count": 8,
   "metadata": {},
   "outputs": [
    {
     "name": "stdout",
     "output_type": "stream",
     "text": [
      "\n",
      "Step 2.1: Tokenizing and padding text prompts...\n",
      "Created 7 padded prompt sequences and gathered target features.\n",
      "  Prompt Input IDs shape: torch.Size([7, 64])\n",
      "  Prompt Attention Mask shape: torch.Size([7, 64])\n",
      "  Target Features shape: torch.Size([7, 512])\n"
     ]
    }
   ],
   "source": [
    "print(\"\\nStep 2.1: Tokenizing and padding text prompts...\")\n",
    "\n",
    "prepared_prompts = []\n",
    "target_features_ordered = [] # Store target features in the same order\n",
    "\n",
    "for sample in text_to_image_data:\n",
    "    prompt = sample[\"prompt\"]\n",
    "    image_path = sample[\"image_path\"]\n",
    "\n",
    "    # --- Tokenize Prompt --- \n",
    "    prompt_ids_no_pad = [char_to_int[ch] for ch in prompt]\n",
    "\n",
    "    # --- Padding --- \n",
    "    current_len = len(prompt_ids_no_pad)\n",
    "    pad_len = block_size - current_len\n",
    "\n",
    "    if pad_len < 0:\n",
    "        print(f\"Warning: Prompt length ({current_len}) exceeds block_size ({block_size}). Truncating prompt.\")\n",
    "        prompt_ids = prompt_ids_no_pad[:block_size]\n",
    "        pad_len = 0\n",
    "        current_len = block_size\n",
    "    else:\n",
    "        prompt_ids = prompt_ids_no_pad + ([pad_token_id] * pad_len)\n",
    "\n",
    "    # --- Create Attention Mask --- \n",
    "    attention_mask = ([1] * current_len) + ([0] * pad_len)\n",
    "\n",
    "    # --- Store Prompt Data --- \n",
    "    prepared_prompts.append({\n",
    "        \"input_ids\": torch.tensor(prompt_ids, dtype=torch.long),\n",
    "        \"attention_mask\": torch.tensor(attention_mask, dtype=torch.long)\n",
    "    })\n",
    "\n",
    "    # --- Store Corresponding Target Feature --- \n",
    "    if image_path in target_image_features:\n",
    "        target_features_ordered.append(target_image_features[image_path])\n",
    "    else:\n",
    "        print(f\"Error: Target feature not found for {image_path}. Data mismatch?\")\n",
    "        # Handle error - maybe skip this sample or raise exception\n",
    "        target_features_ordered.append(torch.zeros(vision_feature_dim, device=device)) # Placeholder\n",
    "\n",
    "# --- Stack into Tensors --- \n",
    "all_prompt_input_ids = torch.stack([p['input_ids'] for p in prepared_prompts])\n",
    "all_prompt_attention_masks = torch.stack([p['attention_mask'] for p in prepared_prompts])\n",
    "all_target_features = torch.stack(target_features_ordered)\n",
    "\n",
    "num_sequences_available = all_prompt_input_ids.shape[0]\n",
    "print(f\"Created {num_sequences_available} padded prompt sequences and gathered target features.\")\n",
    "print(f\"  Prompt Input IDs shape: {all_prompt_input_ids.shape}\") # (num_samples, block_size)\n",
    "print(f\"  Prompt Attention Mask shape: {all_prompt_attention_masks.shape}\") # (num_samples, block_size)\n",
    "print(f\"  Target Features shape: {all_target_features.shape}\") # (num_samples, vision_feature_dim)"
   ]
  },
  {
   "cell_type": "markdown",
   "metadata": {},
   "source": [
    "#### Step 2.2: Batching Strategy (Random Sampling)\n",
    "\n",
    "**Theory:** Set up for random batch sampling during training. We'll select random indices and grab the corresponding prompt IDs, masks, and target image features."
   ]
  },
  {
   "cell_type": "code",
   "execution_count": 9,
   "metadata": {},
   "outputs": [
    {
     "name": "stdout",
     "output_type": "stream",
     "text": [
      "\n",
      "Step 2.2: Preparing for batching text-to-image data...\n",
      "Data ready for training. Will sample batches of size 4 randomly.\n"
     ]
    }
   ],
   "source": [
    "print(\"\\nStep 2.2: Preparing for batching text-to-image data...\")\n",
    "\n",
    "# Check batch size feasibility\n",
    "if num_sequences_available < batch_size:\n",
    "    print(f\"Warning: Number of sequences ({num_sequences_available}) is less than batch size ({batch_size}). Adjusting batch size.\")\n",
    "    batch_size = num_sequences_available\n",
    "\n",
    "print(f\"Data ready for training. Will sample batches of size {batch_size} randomly.\")\n",
    "# In the training loop, we will use random indices to get:\n",
    "# xb_prompt_ids = all_prompt_input_ids[indices]\n",
    "# batch_prompt_masks = all_prompt_attention_masks[indices]\n",
    "# yb_target_features = all_target_features[indices]"
   ]
  },
  {
   "cell_type": "markdown",
   "metadata": {},
   "source": [
    "### Step 3: Text-to-Image Training Loop (Inline)\n",
    "\n",
    "**Goal:** Train the model to map text prompts to image feature vectors."
   ]
  },
  {
   "cell_type": "markdown",
   "metadata": {},
   "source": [
    "#### Step 3.1: Define Optimizer and Loss Function\n",
    "\n",
    "**Theory:** Gather *trainable* parameters (Transformer components + new output layer). Define the optimizer (AdamW). Define the loss function - Mean Squared Error (MSE) is suitable for comparing the predicted and target feature vectors."
   ]
  },
  {
   "cell_type": "code",
   "execution_count": 10,
   "metadata": {},
   "outputs": [
    {
     "name": "stdout",
     "output_type": "stream",
     "text": [
      "\n",
      "Step 3.1: Defining Optimizer and Loss Function for text-to-image...\n",
      "  Optimizer defined: AdamW with lr=0.0001\n",
      "  Managing 38 parameter groups/tensors.\n",
      "  Loss function defined: MSELoss\n"
     ]
    }
   ],
   "source": [
    "print(\"\\nStep 3.1: Defining Optimizer and Loss Function for text-to-image...\")\n",
    "\n",
    "# --- Gather Trainable Parameters --- \n",
    "# Includes Transformer components and the new output layer\n",
    "all_trainable_parameters_t2i = list(token_embedding_table.parameters())\n",
    "for i in range(n_layers):\n",
    "    all_trainable_parameters_t2i.extend(list(layer_norms_1[i].parameters()))\n",
    "    all_trainable_parameters_t2i.extend(list(mha_qkv_linears[i].parameters()))\n",
    "    all_trainable_parameters_t2i.extend(list(mha_output_linears[i].parameters()))\n",
    "    all_trainable_parameters_t2i.extend(list(layer_norms_2[i].parameters()))\n",
    "    all_trainable_parameters_t2i.extend(list(ffn_linear_1[i].parameters()))\n",
    "    all_trainable_parameters_t2i.extend(list(ffn_linear_2[i].parameters()))\n",
    "all_trainable_parameters_t2i.extend(list(final_layer_norm.parameters()))\n",
    "all_trainable_parameters_t2i.extend(list(text_to_image_feature_layer.parameters())) # Add the new layer\n",
    "\n",
    "# --- Define Optimizer --- \n",
    "optimizer = optim.AdamW(all_trainable_parameters_t2i, lr=learning_rate)\n",
    "print(f\"  Optimizer defined: AdamW with lr={learning_rate}\")\n",
    "print(f\"  Managing {len(all_trainable_parameters_t2i)} parameter groups/tensors.\")\n",
    "\n",
    "# --- Define Loss Function --- \n",
    "# Theory: MSE loss compares the predicted feature vector to the target feature vector.\n",
    "criterion = nn.MSELoss()\n",
    "print(f\"  Loss function defined: {type(criterion).__name__}\")"
   ]
  },
  {
   "cell_type": "markdown",
   "metadata": {},
   "source": [
    "#### Step 3.2: The Training Loop\n",
    "\n",
    "**Theory:** Iterate for `epochs`. In each step:\n",
    "1.  Select batch (prompt IDs, masks, target features).\n",
    "2.  Perform forward pass: Embed prompt, add PE, pass through Transformer blocks, apply final LN, project to image feature dimension using `text_to_image_feature_layer`.\n",
    "3.  Calculate MSE loss between predicted and target feature vectors.\n",
    "4.  Backpropagate and update weights."
   ]
  },
  {
   "cell_type": "code",
   "execution_count": 11,
   "metadata": {},
   "outputs": [
    {
     "name": "stdout",
     "output_type": "stream",
     "text": [
      "\n",
      "Step 3.2: Starting Text-to-Image Training Loop...\n",
      "  Epoch 1/5000, MSE Loss: 0.880764\n",
      "  Epoch 501/5000, MSE Loss: 0.022411\n",
      "  Epoch 1001/5000, MSE Loss: 0.006695\n",
      "  Epoch 1501/5000, MSE Loss: 0.000073\n",
      "  Epoch 2001/5000, MSE Loss: 0.000015\n",
      "  Epoch 2501/5000, MSE Loss: 0.000073\n",
      "  Epoch 3001/5000, MSE Loss: 0.000002\n",
      "  Epoch 3501/5000, MSE Loss: 0.000011\n",
      "  Epoch 4001/5000, MSE Loss: 0.000143\n",
      "  Epoch 4501/5000, MSE Loss: 0.000013\n",
      "  Epoch 5000/5000, MSE Loss: 0.000030\n",
      "--- Text-to-Image Training Loop Completed ---\n",
      "\n"
     ]
    },
    {
     "data": {
      "image/png": "[encoded data removed]",
      "text/plain": [
       "<Figure size 2000x300 with 1 Axes>"
      ]
     },
     "metadata": {},
     "output_type": "display_data"
    }
   ],
   "source": [
    "print(\"\\nStep 3.2: Starting Text-to-Image Training Loop...\")\n",
    "\n",
    "t2i_losses = []\n",
    "\n",
    "# --- Set Trainable Layers to Training Mode ---\n",
    "token_embedding_table.train()\n",
    "for i in range(n_layers):\n",
    "    layer_norms_1[i].train()\n",
    "    mha_qkv_linears[i].train()\n",
    "    mha_output_linears[i].train()\n",
    "    layer_norms_2[i].train()\n",
    "    ffn_linear_1[i].train()\n",
    "    ffn_linear_2[i].train()\n",
    "final_layer_norm.train()\n",
    "text_to_image_feature_layer.train() # New layer also needs training mode\n",
    "# vision_model remains in eval() mode\n",
    "\n",
    "# --- Training Loop ---\n",
    "for epoch in range(epochs):\n",
    "\n",
    "    # --- 1. Batch Selection --- \n",
    "    indices = torch.randint(0, num_sequences_available, (batch_size,))\n",
    "    xb_prompt_ids = all_prompt_input_ids[indices].to(device)      # (B, T)\n",
    "    batch_prompt_masks = all_prompt_attention_masks[indices].to(device) # (B, T)\n",
    "    yb_target_features = all_target_features[indices].to(device) # (B, vision_feature_dim)\n",
    "\n",
    "    # --- 2. Forward Pass --- \n",
    "    B, T = xb_prompt_ids.shape\n",
    "    C = d_model\n",
    "\n",
    "    # --- Embeddings + PE ---\n",
    "    token_embed = token_embedding_table(xb_prompt_ids) # (B, T, C)\n",
    "    pos_enc_slice = positional_encoding[:, :T, :]    # (1, T, C)\n",
    "    x = token_embed + pos_enc_slice                # (B, T, C)\n",
    "\n",
    "    # --- Transformer Blocks --- \n",
    "    # Create attention mask (Causal + Padding for prompts)\n",
    "    padding_mask_expanded = batch_prompt_masks.unsqueeze(1).unsqueeze(2) # (B, 1, 1, T)\n",
    "    combined_attn_mask = causal_mask[:,:,:T,:T] * padding_mask_expanded # (B, 1, T, T)\n",
    "\n",
    "    for i in range(n_layers):\n",
    "        x_input_block = x\n",
    "        # Pre-LN MHA\n",
    "        x_ln1 = layer_norms_1[i](x_input_block)\n",
    "        qkv = mha_qkv_linears[i](x_ln1)\n",
    "        qkv = qkv.view(B, T, n_heads, 3 * d_k).permute(0, 2, 1, 3)\n",
    "        q, k, v = qkv.chunk(3, dim=-1)\n",
    "        attn_scores = (q @ k.transpose(-2, -1)) * (d_k ** -0.5)\n",
    "        attn_scores_masked = attn_scores.masked_fill(combined_attn_mask == 0, float('-inf'))\n",
    "        attention_weights = F.softmax(attn_scores_masked, dim=-1)\n",
    "        attention_weights = torch.nan_to_num(attention_weights)\n",
    "        attn_output = attention_weights @ v\n",
    "        attn_output = attn_output.permute(0, 2, 1, 3).contiguous().view(B, T, C)\n",
    "        mha_result = mha_output_linears[i](attn_output)\n",
    "        x = x_input_block + mha_result # Residual 1\n",
    "        # Pre-LN FFN\n",
    "        x_input_ffn = x\n",
    "        x_ln2 = layer_norms_2[i](x_input_ffn)\n",
    "        ffn_hidden = ffn_linear_1[i](x_ln2)\n",
    "        ffn_activated = F.relu(ffn_hidden)\n",
    "        ffn_output = ffn_linear_2[i](ffn_activated)\n",
    "        x = x_input_ffn + ffn_output # Residual 2\n",
    "\n",
    "    # --- Final LayerNorm --- \n",
    "    final_norm_output = final_layer_norm(x) # (B, T, C)\n",
    "\n",
    "    # --- Select Hidden State for Prediction --- \n",
    "    # Theory: We need one vector per sequence to predict the image feature vector.\n",
    "    # We can take the hidden state of the *last non-padding* token.\n",
    "    # Find indices of the last non-padding token for each sequence in the batch.\n",
    "    # batch_prompt_masks is (B, T), value is 1 for non-pad, 0 for pad.\n",
    "    # `torch.sum(mask, 1) - 1` gives the index of the last '1'.\n",
    "    last_token_indices = torch.sum(batch_prompt_masks, 1) - 1 # Shape: (B,)\n",
    "    # Ensure indices are within bounds (handle case of all padding, though unlikely)\n",
    "    last_token_indices = torch.clamp(last_token_indices, min=0)\n",
    "    # Gather the hidden states corresponding to these last tokens.\n",
    "    # We need to index final_norm_output[batch_index, token_index, :]\n",
    "    batch_indices = torch.arange(B, device=device)\n",
    "    last_token_hidden_states = final_norm_output[batch_indices, last_token_indices, :] # (B, C)\n",
    "\n",
    "    # --- Project to Image Feature Dimension --- \n",
    "    # Theory: Use the new output layer to predict the image feature vector.\n",
    "    predicted_image_features = text_to_image_feature_layer(last_token_hidden_states) # (B, vision_feature_dim)\n",
    "\n",
    "    # --- 3. Calculate Loss --- \n",
    "    # Theory: Compute MSE between predicted features and target features.\n",
    "    loss = criterion(predicted_image_features, yb_target_features)\n",
    "\n",
    "    # --- 4. Zero Gradients --- \n",
    "    optimizer.zero_grad()\n",
    "\n",
    "    # --- 5. Backward Pass --- \n",
    "    if not torch.isnan(loss) and not torch.isinf(loss):\n",
    "        loss.backward()\n",
    "        # Optional: Gradient Clipping\n",
    "        # torch.nn.utils.clip_grad_norm_(all_trainable_parameters_t2i, max_norm=1.0)\n",
    "        \n",
    "        # --- 6. Update Parameters --- \n",
    "        optimizer.step()\n",
    "    else:\n",
    "        print(f\"Warning: Invalid loss detected (NaN or Inf) at epoch {epoch+1}. Skipping optimizer step.\")\n",
    "        loss = None\n",
    "\n",
    "    # --- Logging --- \n",
    "    if loss is not None:\n",
    "        current_loss = loss.item()\n",
    "        t2i_losses.append(current_loss)\n",
    "        if epoch % eval_interval == 0 or epoch == epochs - 1:\n",
    "            print(f\"  Epoch {epoch+1}/{epochs}, MSE Loss: {current_loss:.6f}\")\n",
    "    elif epoch % eval_interval == 0 or epoch == epochs - 1:\n",
    "        print(f\"  Epoch {epoch+1}/{epochs}, Loss: Invalid (NaN/Inf)\")\n",
    "\n",
    "print(\"--- Text-to-Image Training Loop Completed ---\\n\")\n",
    "\n",
    "# Optional: Plot losses\n",
    "import matplotlib.pyplot as plt\n",
    "plt.figure(figsize=(20, 3))\n",
    "plt.plot(t2i_losses)\n",
    "plt.title(\"Text-to-Image Training Loss (MSE)\")\n",
    "plt.xlabel(\"Epoch\")\n",
    "plt.ylabel(\"MSE Loss\")\n",
    "plt.grid(True)\n",
    "plt.show()"
   ]
  },
  {
   "cell_type": "markdown",
   "metadata": {},
   "source": [
    "### Step 4: Text-to-Image Generation (Inline)\n",
    "\n",
    "**Goal:** Use the trained model to generate an image feature vector from a text prompt and find the closest matching known image."
   ]
  },
  {
   "cell_type": "markdown",
   "metadata": {},
   "source": [
    "#### Step 4.1: Prepare Input Prompt\n",
    "\n",
    "**Theory:** Define a new text prompt, tokenize it, and pad it to `block_size`."
   ]
  },
  {
   "cell_type": "code",
   "execution_count": 12,
   "metadata": {},
   "outputs": [
    {
     "name": "stdout",
     "output_type": "stream",
     "text": [
      "\n",
      "Step 4.1: Preparing input prompt for generation...\n",
      "Input Prompt: 'a blue square shape'\n",
      "Prepared prompt tensor shape: torch.Size([1, 64])\n",
      "Prepared mask tensor shape: torch.Size([1, 64])\n"
     ]
    }
   ],
   "source": [
    "print(\"\\nStep 4.1: Preparing input prompt for generation...\")\n",
    "\n",
    "# --- Input Prompt --- \n",
    "generation_prompt_text = \"a blue square shape\"\n",
    "print(f\"Input Prompt: '{generation_prompt_text}'\")\n",
    "\n",
    "# --- Tokenize and Pad --- \n",
    "gen_prompt_ids_no_pad = [char_to_int.get(ch, pad_token_id) for ch in generation_prompt_text] # Use get with default for safety\n",
    "gen_current_len = len(gen_prompt_ids_no_pad)\n",
    "gen_pad_len = block_size - gen_current_len\n",
    "\n",
    "if gen_pad_len < 0:\n",
    "    print(f\"Warning: Generation prompt length ({gen_current_len}) exceeds block_size ({block_size}). Truncating.\")\n",
    "    gen_prompt_ids = gen_prompt_ids_no_pad[:block_size]\n",
    "    gen_pad_len = 0\n",
    "    gen_current_len = block_size\n",
    "else:\n",
    "    gen_prompt_ids = gen_prompt_ids_no_pad + ([pad_token_id] * gen_pad_len)\n",
    "\n",
    "# --- Create Attention Mask --- \n",
    "gen_attention_mask = ([1] * gen_current_len) + ([0] * gen_pad_len)\n",
    "\n",
    "# --- Convert to Tensor --- \n",
    "xb_gen_prompt_ids = torch.tensor([gen_prompt_ids], dtype=torch.long, device=device) # Add batch dim B=1\n",
    "batch_gen_prompt_masks = torch.tensor([gen_attention_mask], dtype=torch.long, device=device) # Add batch dim B=1\n",
    "\n",
    "print(f\"Prepared prompt tensor shape: {xb_gen_prompt_ids.shape}\")\n",
    "print(f\"Prepared mask tensor shape: {batch_gen_prompt_masks.shape}\")"
   ]
  },
  {
   "cell_type": "markdown",
   "metadata": {},
   "source": [
    "#### Step 4.2: Generate Image Feature Vector\n",
    "\n",
    "**Theory:** Perform a forward pass with the input prompt using the trained model (in evaluation mode) to get the predicted image feature vector."
   ]
  },
  {
   "cell_type": "code",
   "execution_count": 13,
   "metadata": {},
   "outputs": [
    {
     "name": "stdout",
     "output_type": "stream",
     "text": [
      "\n",
      "Step 4.2: Generating image feature vector...\n",
      "Generated predicted feature vector with shape: torch.Size([1, 512])\n"
     ]
    }
   ],
   "source": [
    "print(\"\\nStep 4.2: Generating image feature vector...\")\n",
    "\n",
    "# --- Set Model to Evaluation Mode --- \n",
    "token_embedding_table.eval()\n",
    "for i in range(n_layers):\n",
    "    layer_norms_1[i].eval()\n",
    "    mha_qkv_linears[i].eval()\n",
    "    mha_output_linears[i].eval()\n",
    "    layer_norms_2[i].eval()\n",
    "    ffn_linear_1[i].eval()\n",
    "    ffn_linear_2[i].eval()\n",
    "final_layer_norm.eval()\n",
    "text_to_image_feature_layer.eval()\n",
    "\n",
    "# --- Forward Pass --- \n",
    "with torch.no_grad():\n",
    "    B_gen, T_gen = xb_gen_prompt_ids.shape\n",
    "    C_gen = d_model\n",
    "\n",
    "    # Embeddings + PE\n",
    "    token_embed_gen = token_embedding_table(xb_gen_prompt_ids)\n",
    "    pos_enc_slice_gen = positional_encoding[:, :T_gen, :]\n",
    "    x_gen = token_embed_gen + pos_enc_slice_gen\n",
    "\n",
    "    # Transformer Blocks\n",
    "    padding_mask_expanded_gen = batch_gen_prompt_masks.unsqueeze(1).unsqueeze(2)\n",
    "    combined_attn_mask_gen = causal_mask[:,:,:T_gen,:T_gen] * padding_mask_expanded_gen\n",
    "\n",
    "    for i in range(n_layers):\n",
    "        x_input_block_gen = x_gen\n",
    "        # Pre-LN MHA\n",
    "        x_ln1_gen = layer_norms_1[i](x_input_block_gen)\n",
    "        qkv_gen = mha_qkv_linears[i](x_ln1_gen)\n",
    "        qkv_gen = qkv_gen.view(B_gen, T_gen, n_heads, 3 * d_k).permute(0, 2, 1, 3)\n",
    "        q_gen, k_gen, v_gen = qkv_gen.chunk(3, dim=-1)\n",
    "        attn_scores_gen = (q_gen @ k_gen.transpose(-2, -1)) * (d_k ** -0.5)\n",
    "        attn_scores_masked_gen = attn_scores_gen.masked_fill(combined_attn_mask_gen == 0, float('-inf'))\n",
    "        attention_weights_gen = F.softmax(attn_scores_masked_gen, dim=-1)\n",
    "        attention_weights_gen = torch.nan_to_num(attention_weights_gen)\n",
    "        attn_output_gen = attention_weights_gen @ v_gen\n",
    "        attn_output_gen = attn_output_gen.permute(0, 2, 1, 3).contiguous().view(B_gen, T_gen, C_gen)\n",
    "        mha_result_gen = mha_output_linears[i](attn_output_gen)\n",
    "        x_gen = x_input_block_gen + mha_result_gen # Residual 1\n",
    "        # Pre-LN FFN\n",
    "        x_input_ffn_gen = x_gen\n",
    "        x_ln2_gen = layer_norms_2[i](x_input_ffn_gen)\n",
    "        ffn_hidden_gen = ffn_linear_1[i](x_ln2_gen)\n",
    "        ffn_activated_gen = F.relu(ffn_hidden_gen)\n",
    "        ffn_output_gen = ffn_linear_2[i](ffn_activated_gen)\n",
    "        x_gen = x_input_ffn_gen + ffn_output_gen # Residual 2\n",
    "        \n",
    "    # Final LayerNorm\n",
    "    final_norm_output_gen = final_layer_norm(x_gen)\n",
    "\n",
    "    # Select Hidden State (use last non-padding token's state)\n",
    "    last_token_indices_gen = torch.sum(batch_gen_prompt_masks, 1) - 1\n",
    "    last_token_indices_gen = torch.clamp(last_token_indices_gen, min=0)\n",
    "    batch_indices_gen = torch.arange(B_gen, device=device)\n",
    "    last_token_hidden_states_gen = final_norm_output_gen[batch_indices_gen, last_token_indices_gen, :]\n",
    "\n",
    "    # Project to Image Feature Dimension\n",
    "    predicted_feature_vector = text_to_image_feature_layer(last_token_hidden_states_gen)\n",
    "\n",
    "print(f\"Generated predicted feature vector with shape: {predicted_feature_vector.shape}\") # Should be (1, vision_feature_dim)"
   ]
  },
  {
   "cell_type": "markdown",
   "metadata": {},
   "source": [
    "#### Step 4.3: Find Closest Known Image (Simplified Reconstruction)\n",
    "\n",
    "**Theory:** Compare the predicted feature vector to the pre-computed feature vectors of our known training images (`known_features_list`). Find the known image whose feature vector has the smallest distance (e.g., Euclidean or Cosine distance) to the predicted vector. Display that known image."
   ]
  },
  {
   "cell_type": "code",
   "execution_count": 14,
   "metadata": {},
   "outputs": [
    {
     "name": "stdout",
     "output_type": "stream",
     "text": [
      "\n",
      "Step 4.3: Finding closest known image...\n",
      "Closest match found: 'blue_square.png' with distance 4.8436\n",
      "Displaying the closest matching image:\n"
     ]
    },
    {
     "data": {
      "image/png": "[encoded data removed]",
      "text/plain": [
       "<Figure size 640x480 with 1 Axes>"
      ]
     },
     "metadata": {},
     "output_type": "display_data"
    }
   ],
   "source": [
    "print(\"\\nStep 4.3: Finding closest known image...\")\n",
    "\n",
    "# --- Calculate Distances --- \n",
    "# Theory: Calculate the distance between the predicted vector and each known vector.\n",
    "# We use Cosine distance: 1 - cosine_similarity. Smaller distance is better.\n",
    "predicted_vec = predicted_feature_vector.squeeze(0).cpu().numpy() # Move to CPU and convert to numpy for scipy\n",
    "\n",
    "min_distance = float('inf')\n",
    "closest_image_path = None\n",
    "\n",
    "for known_path, known_vec_tensor in known_features_list:\n",
    "    known_vec = known_vec_tensor.cpu().numpy()\n",
    "    # Calculate cosine distance\n",
    "    # dist = scipy_distance.cosine(predicted_vec, known_vec)\n",
    "    # Or Calculate Euclidean distance (L2 norm)\n",
    "    dist = scipy_distance.euclidean(predicted_vec, known_vec)\n",
    "\n",
    "    # print(f\"  Distance to {os.path.basename(known_path)}: {dist:.4f}\") # Optional: print distances\n",
    "\n",
    "    if dist < min_distance:\n",
    "        min_distance = dist\n",
    "        closest_image_path = known_path\n",
    "\n",
    "# --- Display Result --- \n",
    "if closest_image_path:\n",
    "    print(f\"Closest match found: '{os.path.basename(closest_image_path)}' with distance {min_distance:.4f}\")\n",
    "    # Display the image using PIL or matplotlib\n",
    "    try:\n",
    "        matched_img = Image.open(closest_image_path)\n",
    "        print(\"Displaying the closest matching image:\")\n",
    "        # In a notebook environment, simply displaying the object often works:\n",
    "        # matched_img \n",
    "        # Or use matplotlib:\n",
    "        import matplotlib.pyplot as plt\n",
    "        plt.imshow(matched_img)\n",
    "        plt.title(f\"Generated for: '{generation_prompt_text}'\\nClosest Match: {os.path.basename(closest_image_path)}\")\n",
    "        plt.axis('off')\n",
    "        plt.show()\n",
    "    except FileNotFoundError:\n",
    "        print(f\"Error: Could not load the matched image file at {closest_image_path}\")\n",
    "    except Exception as e:\n",
    "        print(f\"Error displaying image: {e}\")\n",
    "else:\n",
    "    print(\"Could not determine the closest image.\")"
   ]
  },
  {
   "cell_type": "markdown",
   "metadata": {},
   "source": [
    "### Step 5: Save the model state (optional)\n",
    "\n",
    "To save our text to image generation model, you need to create a dictionary with all model components and configurations, then use torch.save(). Here's how to do it:"
   ]
  },
  {
   "cell_type": "code",
   "execution_count": 15,
   "metadata": {},
   "outputs": [
    {
     "name": "stdout",
     "output_type": "stream",
     "text": [
      "Text-to-Image model saved to saved_models\\text_to_image_model.pt\n"
     ]
    }
   ],
   "source": [
    "import os\n",
    "\n",
    "# Create the directory if it doesn't exist\n",
    "save_dir = 'saved_models'\n",
    "os.makedirs(save_dir, exist_ok=True)\n",
    "save_path = os.path.join(save_dir, 'text_to_image_model.pt')\n",
    "\n",
    "# Create a dictionary with all relevant components and configurations\n",
    "text_to_image_state_dict = {\n",
    "    # Configuration\n",
    "    'config': {\n",
    "        'vocab_size': vocab_size,\n",
    "        'd_model': d_model,\n",
    "        'n_heads': n_heads,\n",
    "        'n_layers': n_layers,\n",
    "        'd_ff': d_ff,\n",
    "        'block_size': block_size,\n",
    "        'vision_feature_dim': vision_feature_dim\n",
    "    },\n",
    "    # Tokenizer\n",
    "    'tokenizer': {\n",
    "        'char_to_int': char_to_int,\n",
    "        'int_to_char': int_to_char\n",
    "    },\n",
    "    # Model weights (trainable parts)\n",
    "    'token_embedding_table': token_embedding_table.state_dict(),\n",
    "    'positional_encoding': positional_encoding, # Not trained, but needed for reconstruction\n",
    "    'layer_norms_1': [ln.state_dict() for ln in layer_norms_1],\n",
    "    'mha_qkv_linears': [l.state_dict() for l in mha_qkv_linears],\n",
    "    'mha_output_linears': [l.state_dict() for l in mha_output_linears],\n",
    "    'layer_norms_2': [ln.state_dict() for ln in layer_norms_2],\n",
    "    'ffn_linear_1': [l.state_dict() for l in ffn_linear_1],\n",
    "    'ffn_linear_2': [l.state_dict() for l in ffn_linear_2],\n",
    "    'final_layer_norm': final_layer_norm.state_dict(),\n",
    "    'text_to_image_feature_layer': text_to_image_feature_layer.state_dict() # The new output layer\n",
    "    # Note: We don't save the frozen vision_model weights here, \n",
    "    # as we assume it's loaded separately from torchvision during use.\n",
    "}\n",
    "\n",
    "# Save to file\n",
    "torch.save(text_to_image_state_dict, save_path)\n",
    "print(f\"Text-to-Image model saved to {save_path}\")"
   ]
  },
  {
   "cell_type": "markdown",
   "metadata": {},
   "source": [
    "### Loading the Saved Text-to-Image Model\n",
    "\n",
    "To load the model back, you would reverse the saving process:"
   ]
  },
  {
   "cell_type": "code",
   "execution_count": 16,
   "metadata": {},
   "outputs": [
    {
     "name": "stdout",
     "output_type": "stream",
     "text": [
      "Loaded state dictionary from 'saved_models/text_to_image_model.pt'.\n",
      "Text-to-Image model components loaded successfully.\n"
     ]
    }
   ],
   "source": [
    "# Load the saved state dictionary\n",
    "load_path = 'saved_models/text_to_image_model.pt'\n",
    "if os.path.exists(load_path):\n",
    "    loaded_t2i_state = torch.load(load_path, map_location=device)\n",
    "    print(f\"Loaded state dictionary from '{load_path}'.\")\n",
    "\n",
    "    # Extract configuration and tokenizer\n",
    "    config = loaded_t2i_state['config']\n",
    "    vocab_size = config['vocab_size']\n",
    "    d_model = config['d_model']\n",
    "    n_heads = config['n_heads']\n",
    "    n_layers = config['n_layers']\n",
    "    d_ff = config['d_ff']\n",
    "    block_size = config['block_size']\n",
    "    vision_feature_dim = config['vision_feature_dim']\n",
    "    d_k = d_model // n_heads\n",
    "\n",
    "    char_to_int = loaded_t2i_state['tokenizer']['char_to_int']\n",
    "    int_to_char = loaded_t2i_state['tokenizer']['int_to_char']\n",
    "\n",
    "    # Recreate causal mask\n",
    "    causal_mask = torch.tril(torch.ones(block_size, block_size, device=device)).view(1, 1, block_size, block_size)\n",
    "\n",
    "    # Rebuild and load model components\n",
    "    token_embedding_table = nn.Embedding(vocab_size, d_model).to(device)\n",
    "    token_embedding_table.load_state_dict(loaded_t2i_state['token_embedding_table'])\n",
    "\n",
    "    positional_encoding = loaded_t2i_state['positional_encoding'].to(device)\n",
    "\n",
    "    layer_norms_1 = []\n",
    "    mha_qkv_linears = []\n",
    "    mha_output_linears = []\n",
    "    layer_norms_2 = []\n",
    "    ffn_linear_1 = []\n",
    "    ffn_linear_2 = []\n",
    "\n",
    "    for i in range(n_layers):\n",
    "        # Load Layer Norm 1\n",
    "        ln1 = nn.LayerNorm(d_model).to(device)\n",
    "        ln1.load_state_dict(loaded_t2i_state['layer_norms_1'][i])\n",
    "        layer_norms_1.append(ln1)\n",
    "        \n",
    "        # Load MHA QKV Linear\n",
    "        qkv_dict = loaded_t2i_state['mha_qkv_linears'][i]\n",
    "        has_bias = 'bias' in qkv_dict\n",
    "        qkv = nn.Linear(d_model, 3 * d_model, bias=has_bias).to(device)\n",
    "        qkv.load_state_dict(qkv_dict)\n",
    "        mha_qkv_linears.append(qkv)\n",
    "\n",
    "        # Load MHA Output Linear\n",
    "        mha_out_dict = loaded_t2i_state['mha_output_linears'][i]\n",
    "        has_bias = 'bias' in mha_out_dict\n",
    "        mha_out = nn.Linear(d_model, d_model, bias=has_bias).to(device)\n",
    "        mha_out.load_state_dict(mha_out_dict)\n",
    "        mha_output_linears.append(mha_out)\n",
    "\n",
    "        # Load Layer Norm 2\n",
    "        ln2 = nn.LayerNorm(d_model).to(device)\n",
    "        ln2.load_state_dict(loaded_t2i_state['layer_norms_2'][i])\n",
    "        layer_norms_2.append(ln2)\n",
    "\n",
    "        # Load FFN Linear 1\n",
    "        ffn1_dict = loaded_t2i_state['ffn_linear_1'][i]\n",
    "        has_bias = 'bias' in ffn1_dict\n",
    "        ff1 = nn.Linear(d_model, d_ff, bias=has_bias).to(device)\n",
    "        ff1.load_state_dict(ffn1_dict)\n",
    "        ffn_linear_1.append(ff1)\n",
    "\n",
    "        # Load FFN Linear 2\n",
    "        ffn2_dict = loaded_t2i_state['ffn_linear_2'][i]\n",
    "        has_bias = 'bias' in ffn2_dict\n",
    "        ff2 = nn.Linear(d_ff, d_model, bias=has_bias).to(device)\n",
    "        ff2.load_state_dict(ffn2_dict)\n",
    "        ffn_linear_2.append(ff2)\n",
    "\n",
    "    # Load Final LayerNorm\n",
    "    final_layer_norm = nn.LayerNorm(d_model).to(device)\n",
    "    final_layer_norm.load_state_dict(loaded_t2i_state['final_layer_norm'])\n",
    "\n",
    "    # Load Text-to-Image Feature Layer\n",
    "    t2i_out_dict = loaded_t2i_state['text_to_image_feature_layer']\n",
    "    has_bias = 'bias' in t2i_out_dict\n",
    "    text_to_image_feature_layer = nn.Linear(d_model, vision_feature_dim, bias=has_bias).to(device)\n",
    "    text_to_image_feature_layer.load_state_dict(t2i_out_dict)\n",
    "    \n",
    "    print(\"Text-to-Image model components loaded successfully.\")\n",
    "\n",
    "    # Remember to also load the vision_model separately if needed for targets/comparison\n",
    "    # vision_model = torchvision.models.resnet18(weights=torchvision.models.ResNet18_Weights.DEFAULT)\n",
    "    # vision_model.fc = nn.Identity()\n",
    "    # vision_model = vision_model.to(device)\n",
    "    # vision_model.eval()\n",
    "    # for param in vision_model.parameters():\n",
    "    #     param.requires_grad = False\n",
    "else:\n",
    "    print(f\"Model file not found at {load_path}. Cannot load model.\")"
   ]
  },
  {
   "cell_type": "markdown",
   "metadata": {},
   "source": [
    "### Step 6: Conclusion\n",
    "\n",
    "This notebook demonstrated a highly simplified, inline approach to text-to-image generation using a Transformer architecture. Instead of generating raw pixels, we adapted the pre-trained text Transformer to predict an *image feature vector* corresponding to a textual description.\n",
    "\n",
    "Key steps involved:\n",
    "1.  **Loading:** Reusing text Transformer components and the ResNet feature extractor from the previous multi-modal model.\n",
    "2.  **Data:** Defining text prompts paired with target images and pre-extracting the *target* image feature vectors using the frozen ResNet.\n",
    "3.  **Architecture Adaptation:** Replacing the final output layer of the Transformer with a new linear layer projecting hidden states to the image feature dimension.\n",
    "4.  **Training:** Training the Transformer components and the new output layer to minimize the Mean Squared Error (MSE) between the *predicted* image feature vector and the *target* image feature vector for given text prompts.\n",
    "5.  **Generation & Simplified Reconstruction:** Using the trained model to predict a feature vector from a new text prompt. Then, finding the training image whose actual feature vector is closest (using Euclidean distance) to the predicted vector and displaying that image as the result.\n",
    "\n",
    "This method illustrates the concept of using Transformers for cross-modal generation (text to a visual representation) while adhering to the inline implementation constraint. It avoids the significant complexity of direct pixel generation (GANs, Diffusion) but provides a tangible, albeit very basic, visual output by leveraging nearest-neighbor search in the feature space of known images. Real-world text-to-image models are vastly more complex, often combining different architectures and trained on enormous datasets."
   ]
  }
 ],
 "metadata": {
  "kernelspec": {
   "display_name": ".venv-multimodaal",
   "language": "python",
   "name": "python3"
  },
  "language_info": {
   "codemirror_mode": {
    "name": "ipython",
    "version": 3
   },
   "file_extension": ".py",
   "mimetype": "text/x-python",
   "name": "python",
   "nbconvert_exporter": "python",
   "pygments_lexer": "ipython3",
   "version": "3.9.0"
  }
 },
 "nbformat": 4,
 "nbformat_minor": 4
}
